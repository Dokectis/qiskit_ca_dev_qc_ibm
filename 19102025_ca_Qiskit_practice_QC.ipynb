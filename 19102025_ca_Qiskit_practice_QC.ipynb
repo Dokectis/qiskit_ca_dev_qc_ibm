{
  "nbformat": 4,
  "nbformat_minor": 0,
  "metadata": {
    "colab": {
      "provenance": [],
      "authorship_tag": "ABX9TyMivioxDq2jTpkUHpPSGGot",
      "include_colab_link": true
    },
    "kernelspec": {
      "name": "python3",
      "display_name": "Python 3"
    },
    "language_info": {
      "name": "python"
    }
  },
  "cells": [
    {
      "cell_type": "markdown",
      "metadata": {
        "id": "view-in-github",
        "colab_type": "text"
      },
      "source": [
        "<a href=\"https://colab.research.google.com/github/Dokectis/qiskit_ca_dev_qc_ibm/blob/main/19102025_ca_Qiskit_practice_QC.ipynb\" target=\"_parent\"><img src=\"https://colab.research.google.com/assets/colab-badge.svg\" alt=\"Open In Colab\"/></a>"
      ]
    },
    {
      "cell_type": "markdown",
      "source": [
        "**pip install qiskit**  \n",
        "Qiskit is the world’s most popular and performant software stack for quantum computing and algorithms research. Build, optimize, and execute quantum workloads at scale.    \n",
        "\n",
        "By Carlos Araque  \n",
        "Adelaide, South Australia.  \n",
        "Data Engineer and Quantum Computer learner.  \n",
        "Qiskit Dev"
      ],
      "metadata": {
        "id": "227OZddlzVpP"
      }
    },
    {
      "cell_type": "markdown",
      "source": [
        "🧩 1. Install dependencies"
      ],
      "metadata": {
        "id": "0iygfnHTiRkr"
      }
    },
    {
      "cell_type": "code",
      "execution_count": null,
      "metadata": {
        "collapsed": true,
        "id": "YVn8xji_O60I"
      },
      "outputs": [],
      "source": [
        "# Install all required libraries\n",
        "!pip install -q qiskit qiskit-aer matplotlib pylatexenc"
      ]
    },
    {
      "cell_type": "markdown",
      "source": [
        "🧠 2. Import libraries"
      ],
      "metadata": {
        "id": "CRZArJbUiJxB"
      }
    },
    {
      "cell_type": "code",
      "source": [
        "from qiskit import QuantumCircuit, transpile\n",
        "from qiskit_aer import AerSimulator\n",
        "from qiskit.visualization import plot_histogram\n",
        "import matplotlib.pyplot as plt"
      ],
      "metadata": {
        "id": "5apIFl4KiJIK"
      },
      "execution_count": null,
      "outputs": []
    },
    {
      "cell_type": "code",
      "source": [
        "# Essential libraries\n",
        "import numpy as np\n",
        "import matplotlib.pyplot as plt\n",
        "import ipywidgets as widgets\n",
        "from IPython.display import display\n",
        "from PIL import Image\n",
        "import io\n",
        "\n",
        "from qiskit import QuantumCircuit\n",
        "from qiskit.circuit import Parameter\n",
        "from qiskit.visualization import plot_histogram, plot_distribution\n",
        "#from qiskit_ibm_runtime import Options, Session, SamplerV2 as Sampler\n",
        "from qiskit.result import marginal_distribution\n",
        "\n",
        "from qiskit.transpiler import generate_preset_pass_manager\n",
        "#from qiskit_ibm_runtime import QiskitRuntimeService\n",
        "#from qiskit_aer import AerSimulator"
      ],
      "metadata": {
        "id": "618pre97Yv1L"
      },
      "execution_count": null,
      "outputs": []
    },
    {
      "cell_type": "markdown",
      "source": [
        "2. **Creating Quantum Circuits** {#creating-circuits}  \n",
        "2.1 Basic Circuit Creation\n",
        "The QuantumCircuit class is the foundation of all quantum programs in Qiskit.\n",
        "Syntax 1: Simple Circuit with Qubits Only"
      ],
      "metadata": {
        "id": "TsBBMv05zj-F"
      }
    },
    {
      "cell_type": "code",
      "source": [
        "from qiskit import QuantumCircuit\n",
        "\n",
        "# Create a circuit with 3 qubits\n",
        "qc = QuantumCircuit(3)\n",
        "# This creates a circuit with 3 quantum qubits and no classical bits."
      ],
      "metadata": {
        "id": "mo8dzprazfmk"
      },
      "execution_count": null,
      "outputs": []
    },
    {
      "cell_type": "markdown",
      "source": [
        "Syntax 2: Circuit with Qubits and Classical Bits"
      ],
      "metadata": {
        "id": "lzBVeDIpzvNN"
      }
    },
    {
      "cell_type": "code",
      "source": [
        "# Create a circuit with 3 qubits and 3 classical bits\n",
        "qc3 = QuantumCircuit(3, 3)\n",
        "# The first argument is the number of qubits, the second is the number of classical bits."
      ],
      "metadata": {
        "id": "xrPTi9z8zUeM"
      },
      "execution_count": null,
      "outputs": []
    },
    {
      "cell_type": "markdown",
      "source": [
        "**Syntax 3: Named Registers bold text**  "
      ],
      "metadata": {
        "id": "PpwiNYwqz9QN"
      }
    },
    {
      "cell_type": "code",
      "source": [
        "from qiskit import QuantumRegister, ClassicalRegister, QuantumCircuit\n",
        "\n",
        "# Create named registers\n",
        "qr = QuantumRegister(3, 'q')\n",
        "cr = ClassicalRegister(3, 'c')\n",
        "qc_named_register = QuantumCircuit(qr, cr) # usually called qc but i am using qc_named_register for clarification\n",
        "\n",
        "# This approach gives you more control and better circuit visualization."
      ],
      "metadata": {
        "id": "8OQ-s78b0Js1"
      },
      "execution_count": null,
      "outputs": []
    },
    {
      "cell_type": "markdown",
      "source": [
        "**2.2 Understanding Circuit Initialization**\n",
        "Default State: All qubits in Qiskit start in the |0⟩ state when a circuit is created."
      ],
      "metadata": {
        "id": "rjCaBfCm0fP9"
      }
    },
    {
      "cell_type": "code",
      "source": [
        "# This circuit has all qubits in state |000⟩\n",
        "qc = QuantumCircuit(3)"
      ],
      "metadata": {
        "id": "_RStm2dq0ZHE"
      },
      "execution_count": null,
      "outputs": []
    },
    {
      "cell_type": "markdown",
      "source": [
        "**Qubit Indexing:** Qiskit uses LSb 0 (Least Significant bit first) numbering:\n",
        "\n",
        "In a 3-qubit circuit, qubits are indexed as 0, 1, 2\n",
        "Qubit 0 is the rightmost qubit in state representation\n",
        "State |q₂q₁q₀⟩ means qubit 0 is on the right  \n",
        "\n",
        "**2.3 Circuit Visualization**  \n",
        "Qiskit provides multiple ways to visualize circuits:\n",
        "Text Drawing"
      ],
      "metadata": {
        "id": "65juYllh0qou"
      }
    },
    {
      "cell_type": "code",
      "source": [
        "qc = QuantumCircuit(2, 2)\n",
        "qc.h(0)\n",
        "qc.cx(0, 1)\n",
        "qc.measure([0, 1], [0, 1])\n",
        "\n",
        "print(qc.draw())\n",
        "# Output:\n",
        "#      ┌───┐     ┌─┐\n",
        "# q_0: ┤ H ├──■──┤M├───\n",
        "#      └───┘┌─┴─┐└╥┘┌─┐\n",
        "# q_1: ─────┤ X ├─╫─┤M├\n",
        "#           └───┘ ║ └╥┘\n",
        "# c: 2/═══════════╩══╩═\n",
        "#                 0  1"
      ],
      "metadata": {
        "colab": {
          "base_uri": "https://localhost:8080/"
        },
        "id": "Dt_vwGGD0v4k",
        "outputId": "c4424627-a1b6-4c67-e25e-cfd4fcf1386e"
      },
      "execution_count": null,
      "outputs": [
        {
          "output_type": "stream",
          "name": "stdout",
          "text": [
            "     ┌───┐     ┌─┐   \n",
            "q_0: ┤ H ├──■──┤M├───\n",
            "     └───┘┌─┴─┐└╥┘┌─┐\n",
            "q_1: ─────┤ X ├─╫─┤M├\n",
            "          └───┘ ║ └╥┘\n",
            "c: 2/═══════════╩══╩═\n",
            "                0  1 \n"
          ]
        }
      ]
    },
    {
      "cell_type": "markdown",
      "source": [
        "**Matplotlib Drawing (Recommended for Documentation)**"
      ],
      "metadata": {
        "id": "or4lDHX50-eN"
      }
    },
    {
      "cell_type": "code",
      "source": [
        "from qiskit import QuantumCircuit\n",
        "import matplotlib.pyplot as plt\n",
        "\n"
      ],
      "metadata": {
        "id": "9Pz6pkyaku7b"
      },
      "execution_count": null,
      "outputs": []
    },
    {
      "cell_type": "code",
      "source": [
        "# Create a 2-qubit Bell state circuit\n",
        "qc = QuantumCircuit(2, 2)\n",
        "qc.h(0)               # Create superposition on qubit 0\n",
        "qc.cx(0, 1)           # Entangle qubit 1 with qubit 0\n",
        "qc.measure([0, 1], [0, 1])  # Measure both qubits\n",
        "\n",
        "# Draw the circuit (returns a Matplotlib figure)\n",
        "fig = qc.draw('mpl')\n",
        "\n",
        "# Explicitly show the figure in Colab\n",
        "plt.show()\n"
      ],
      "metadata": {
        "id": "Z51oJuoNldOy"
      },
      "execution_count": null,
      "outputs": []
    },
    {
      "cell_type": "code",
      "source": [
        "qc.draw('text')\n"
      ],
      "metadata": {
        "colab": {
          "base_uri": "https://localhost:8080/",
          "height": 125
        },
        "id": "ZJG1Qb6JlhlK",
        "outputId": "dcc873ba-ed4a-4de3-c99e-0c4f7c19f705"
      },
      "execution_count": null,
      "outputs": [
        {
          "output_type": "execute_result",
          "data": {
            "text/plain": [
              "     ┌───┐     ┌─┐   \n",
              "q_0: ┤ H ├──■──┤M├───\n",
              "     └───┘┌─┴─┐└╥┘┌─┐\n",
              "q_1: ─────┤ X ├─╫─┤M├\n",
              "          └───┘ ║ └╥┘\n",
              "c: 2/═══════════╩══╩═\n",
              "                0  1 "
            ],
            "text/html": [
              "<pre style=\"word-wrap: normal;white-space: pre;background: #fff0;line-height: 1.1;font-family: &quot;Courier New&quot;,Courier,monospace\">     ┌───┐     ┌─┐   \n",
              "q_0: ┤ H ├──■──┤M├───\n",
              "     └───┘┌─┴─┐└╥┘┌─┐\n",
              "q_1: ─────┤ X ├─╫─┤M├\n",
              "          └───┘ ║ └╥┘\n",
              "c: 2/═══════════╩══╩═\n",
              "                0  1 </pre>"
            ]
          },
          "metadata": {},
          "execution_count": 6
        }
      ]
    },
    {
      "cell_type": "code",
      "source": [
        "qc.draw('mpl', style='iqx')\n",
        "\n",
        "# What You’ll See\n",
        "# A 2-qubit circuit diagram:"
      ],
      "metadata": {
        "colab": {
          "base_uri": "https://localhost:8080/",
          "height": 310
        },
        "id": "4umMqg0VloE7",
        "outputId": "a0151188-0176-4447-c7fb-3e231ff9b124"
      },
      "execution_count": null,
      "outputs": [
        {
          "output_type": "stream",
          "name": "stderr",
          "text": [
            "/usr/local/lib/python3.12/dist-packages/qiskit/visualization/circuit/matplotlib.py:272: UserWarning: Style JSON file 'iqx.json' not found in any of these locations: /usr/local/lib/python3.12/dist-packages/qiskit/visualization/circuit/styles/iqx.json, iqx.json. Will use default style.\n",
            "  self._style, def_font_ratio = load_style(\n"
          ]
        },
        {
          "output_type": "execute_result",
          "data": {
            "text/plain": [
              "<Figure size 454.517x284.278 with 1 Axes>"
            ],
            "image/png": "[encoded data removed]"
          },
          "metadata": {},
          "execution_count": 7
        }
      ]
    }
  ]
}