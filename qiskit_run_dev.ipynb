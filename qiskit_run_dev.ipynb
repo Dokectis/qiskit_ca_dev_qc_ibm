{
  "nbformat": 4,
  "nbformat_minor": 0,
  "metadata": {
    "colab": {
      "provenance": [],
      "authorship_tag": "ABX9TyPvkhlh63FQexWD1gGpCwvV",
      "include_colab_link": true
    },
    "kernelspec": {
      "name": "python3",
      "display_name": "Python 3"
    },
    "language_info": {
      "name": "python"
    }
  },
  "cells": [
    {
      "cell_type": "markdown",
      "metadata": {
        "id": "view-in-github",
        "colab_type": "text"
      },
      "source": [
        "<a href=\"https://colab.research.google.com/github/Dokectis/qiskit_ca_dev_qc_ibm/blob/main/qiskit_run_dev.ipynb\" target=\"_parent\"><img src=\"https://colab.research.google.com/assets/colab-badge.svg\" alt=\"Open In Colab\"/></a>"
      ]
    },
    {
      "cell_type": "markdown",
      "source": [
        "**Qiskit run dev**  \n",
        "1️⃣ Install dependencies  \n",
        "2️⃣ Import libraries  \n",
        "3️⃣ Build and visualize the quantum “double-slit” circuit  \n",
        "4️⃣ Run simulation and visualize the results  \n",
        "5️⃣ (Optionally) test the interference pattern by adding a phase shift  \n",
        "\n",
        "Below is the complete, Colab-friendly version of your experiment.  "
      ],
      "metadata": {
        "id": "_OcE_d8Cg9QC"
      }
    },
    {
      "cell_type": "markdown",
      "source": [
        "🧩 1. Install dependencies"
      ],
      "metadata": {
        "id": "b3DolAKvhK-Q"
      }
    },
    {
      "cell_type": "code",
      "source": [
        "# Install all required libraries\n",
        "!pip install -q qiskit qiskit-aer matplotlib pylatexenc\n"
      ],
      "metadata": {
        "id": "yXry8tvegS2p",
        "colab": {
          "base_uri": "https://localhost:8080/"
        },
        "outputId": "47279e46-978f-44ee-bddf-10843eae8106"
      },
      "execution_count": 2,
      "outputs": [
        {
          "output_type": "stream",
          "name": "stdout",
          "text": [
            "\u001b[?25l     \u001b[90m━━━━━━━━━━━━━━━━━━━━━━━━━━━━━━━━━━━━━━━━\u001b[0m \u001b[32m0.0/162.6 kB\u001b[0m \u001b[31m?\u001b[0m eta \u001b[36m-:--:--\u001b[0m\r\u001b[2K     \u001b[91m━━━━━━━━━━━━━━━━━━━━━━━━\u001b[0m\u001b[91m╸\u001b[0m\u001b[90m━━━━━━━━━━━━━━\u001b[0m \u001b[32m102.4/162.6 kB\u001b[0m \u001b[31m3.8 MB/s\u001b[0m eta \u001b[36m0:00:01\u001b[0m\r\u001b[2K     \u001b[90m━━━━━━━━━━━━━━━━━━━━━━━━━━━━━━━━━━━━━━━\u001b[0m \u001b[32m162.6/162.6 kB\u001b[0m \u001b[31m3.1 MB/s\u001b[0m eta \u001b[36m0:00:00\u001b[0m\n",
            "\u001b[?25h  Preparing metadata (setup.py) ... \u001b[?25l\u001b[?25hdone\n",
            "\u001b[2K   \u001b[90m━━━━━━━━━━━━━━━━━━━━━━━━━━━━━━━━━━━━━━━━\u001b[0m \u001b[32m8.0/8.0 MB\u001b[0m \u001b[31m59.3 MB/s\u001b[0m eta \u001b[36m0:00:00\u001b[0m\n",
            "\u001b[2K   \u001b[90m━━━━━━━━━━━━━━━━━━━━━━━━━━━━━━━━━━━━━━━━\u001b[0m \u001b[32m12.4/12.4 MB\u001b[0m \u001b[31m75.9 MB/s\u001b[0m eta \u001b[36m0:00:00\u001b[0m\n",
            "\u001b[2K   \u001b[90m━━━━━━━━━━━━━━━━━━━━━━━━━━━━━━━━━━━━━━━━\u001b[0m \u001b[32m2.2/2.2 MB\u001b[0m \u001b[31m62.3 MB/s\u001b[0m eta \u001b[36m0:00:00\u001b[0m\n",
            "\u001b[2K   \u001b[90m━━━━━━━━━━━━━━━━━━━━━━━━━━━━━━━━━━━━━━━━\u001b[0m \u001b[32m49.5/49.5 kB\u001b[0m \u001b[31m3.2 MB/s\u001b[0m eta \u001b[36m0:00:00\u001b[0m\n",
            "\u001b[?25h  Building wheel for pylatexenc (setup.py) ... \u001b[?25l\u001b[?25hdone\n"
          ]
        }
      ]
    },
    {
      "cell_type": "markdown",
      "source": [
        "🧠 2. Import libraries"
      ],
      "metadata": {
        "id": "GaisAof-hNlI"
      }
    },
    {
      "cell_type": "code",
      "source": [
        "from qiskit import QuantumCircuit, transpile\n",
        "from qiskit_aer import AerSimulator\n",
        "from qiskit.visualization import plot_histogram\n",
        "import matplotlib.pyplot as plt\n"
      ],
      "metadata": {
        "id": "qTLXocYnhPE6"
      },
      "execution_count": 3,
      "outputs": []
    },
    {
      "cell_type": "markdown",
      "source": [
        "⚛️ 3. Create and draw the double-slit quantum circuit"
      ],
      "metadata": {
        "id": "OA62KHE-hRGo"
      }
    },
    {
      "cell_type": "code",
      "source": [
        "# Create a quantum circuit with 1 qubit and 1 classical bit\n",
        "double_slit = QuantumCircuit(1, 1)\n",
        "\n",
        "# First slit – create superposition (like passing through both slits)\n",
        "double_slit.h(0)\n",
        "\n",
        "# Optional: apply a phase shift to simulate interference difference\n",
        "# Uncomment this line to experiment:\n",
        "# double_slit.p(3.14159 / 2, 0)   # phase = π/2\n",
        "\n",
        "# Second slit – recombine the paths\n",
        "double_slit.h(0)\n",
        "\n",
        "# Measure the qubit\n",
        "double_slit.measure(0, 0)\n",
        "\n",
        "# Draw the circuit\n",
        "double_slit.draw('mpl')\n"
      ],
      "metadata": {
        "id": "BoFn2QXXhSyg",
        "colab": {
          "base_uri": "https://localhost:8080/",
          "height": 191
        },
        "outputId": "ee76dd21-bd86-42d9-fd83-400ed6b188c2"
      },
      "execution_count": 4,
      "outputs": [
        {
          "output_type": "execute_result",
          "data": {
            "text/plain": [
              "<Figure size 352.675x200.667 with 1 Axes>"
            ],
            "image/png": "[encoded data removed]"
          },
          "metadata": {},
          "execution_count": 4
        }
      ]
    },
    {
      "cell_type": "markdown",
      "source": [
        "🧮 4. Run simulation on Aer Simulator"
      ],
      "metadata": {
        "id": "ebIqJO6ZhVpI"
      }
    },
    {
      "cell_type": "code",
      "source": [
        "# Initialize simulator\n",
        "simulator = AerSimulator()\n",
        "\n",
        "# Transpile circuit for the simulator\n",
        "compiled_circuit = transpile(double_slit, simulator)\n",
        "\n",
        "# Execute the circuit\n",
        "job = simulator.run(compiled_circuit, shots=1024)\n",
        "result = job.result()\n",
        "\n",
        "# Extract counts (measurement outcomes)\n",
        "counts = result.get_counts()\n",
        "\n",
        "# Print and visualize results\n",
        "print(\"Measurement results:\", counts)\n",
        "plot_histogram(counts)\n",
        "plt.show()\n"
      ],
      "metadata": {
        "id": "tRwDNcmVhWZg",
        "colab": {
          "base_uri": "https://localhost:8080/"
        },
        "outputId": "38f4925c-1e9b-4217-d8e8-3dc36159a592"
      },
      "execution_count": 5,
      "outputs": [
        {
          "output_type": "stream",
          "name": "stdout",
          "text": [
            "Measurement results: {'0': 1024}\n"
          ]
        }
      ]
    },
    {
      "cell_type": "markdown",
      "source": [
        "toggling the phase-shift line (double_slit.p(3.14159 / 2, 0)) and rerun cells 3 + 4.\n",
        "\n",
        "Without phase shift → mostly |0⟩ (means constructive interference)\n",
        "\n",
        "With phase = π/2 → mostly |1⟩ (destructive interference)\n",
        "\n",
        "This mimics the quantum double-slit experiment — interference controlled by quantum phase."
      ],
      "metadata": {
        "id": "JEejXd2ehYQ3"
      }
    },
    {
      "cell_type": "markdown",
      "source": [
        "A complete cell that runs both versions of the quantum “double-slit” experiment — one without a phase shift and one with a phase shift (π/2) — then displays both histograms side-by-side to show the interference effect clearly."
      ],
      "metadata": {
        "id": "vew9yvQWhuHX"
      }
    },
    {
      "cell_type": "markdown",
      "source": [
        "🌊 5. Compare Constructive vs. Destructive **Interference**"
      ],
      "metadata": {
        "id": "IS4eFuAehx8X"
      }
    },
    {
      "cell_type": "code",
      "source": [
        "# --- Import needed libraries (in case you're running this cell separately) ---\n",
        "from qiskit import QuantumCircuit, transpile\n",
        "from qiskit_aer import AerSimulator\n",
        "from qiskit.visualization import plot_histogram\n",
        "import matplotlib.pyplot as plt\n",
        "\n",
        "# Initialize simulator\n",
        "simulator = AerSimulator()\n",
        "\n",
        "# --- Circuit 1: Without Phase Shift (Constructive Interference) ---\n",
        "no_phase = QuantumCircuit(1, 1)\n",
        "no_phase.h(0)       # first slit (superposition)\n",
        "no_phase.h(0)       # second slit (recombination)\n",
        "no_phase.measure(0, 0)\n",
        "\n",
        "# --- Circuit 2: With Phase Shift π/2 (Destructive Interference) ---\n",
        "with_phase = QuantumCircuit(1, 1)\n",
        "with_phase.h(0)\n",
        "with_phase.p(3.14159 / 2, 0)  # phase shift = π/2\n",
        "with_phase.h(0)\n",
        "with_phase.measure(0, 0)\n",
        "\n",
        "# Transpile both for the simulator\n",
        "compiled_no_phase = transpile(no_phase, simulator)\n",
        "compiled_with_phase = transpile(with_phase, simulator)\n",
        "\n",
        "# Run both simulations\n",
        "job1 = simulator.run(compiled_no_phase, shots=1024)\n",
        "job2 = simulator.run(compiled_with_phase, shots=1024)\n",
        "result1 = job1.result()\n",
        "result2 = job2.result()\n",
        "\n",
        "# Get counts\n",
        "counts_no_phase = result1.get_counts()\n",
        "counts_with_phase = result2.get_counts()\n",
        "\n",
        "# Print results\n",
        "print(\"Without Phase Shift (Constructive Interference):\", counts_no_phase)\n",
        "print(\"With Phase Shift π/2 (Destructive Interference):\", counts_with_phase)\n",
        "\n",
        "# Plot both histograms side-by-side\n",
        "fig, axes = plt.subplots(1, 2, figsize=(10, 4))\n",
        "plot_histogram(counts_no_phase, title=\"No Phase Shift (Constructive)\", ax=axes[0])\n",
        "plot_histogram(counts_with_phase, title=\"With Phase Shift π/2 (Destructive)\", ax=axes[1])\n",
        "plt.show()\n"
      ],
      "metadata": {
        "colab": {
          "base_uri": "https://localhost:8080/",
          "height": 425
        },
        "id": "eyxkulvCh23v",
        "outputId": "55a3bd0b-cec2-4f04-a313-0b9dc7322c55"
      },
      "execution_count": 6,
      "outputs": [
        {
          "output_type": "stream",
          "name": "stdout",
          "text": [
            "Without Phase Shift (Constructive Interference): {'0': 1024}\n",
            "With Phase Shift π/2 (Destructive Interference): {'1': 512, '0': 512}\n"
          ]
        },
        {
          "output_type": "display_data",
          "data": {
            "text/plain": [
              "<Figure size 1000x400 with 2 Axes>"
            ],
            "image/png": "[encoded data removed]"
          },
          "metadata": {}
        }
      ]
    },
    {
      "cell_type": "markdown",
      "source": [],
      "metadata": {
        "id": "QionHxCgh2XY"
      }
    }
  ]
}